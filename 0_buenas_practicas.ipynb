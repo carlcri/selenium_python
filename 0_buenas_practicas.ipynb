{
 "cells": [
  {
   "cell_type": "markdown",
   "metadata": {},
   "source": [
    "# Curso de Programacion en Bash Shell\n",
    "\n",
    "Instructor: Marco Antonio Toscano Freire"
   ]
  },
  {
   "cell_type": "markdown",
   "metadata": {},
   "source": [
    "## Preparando el entorno de trabajo\n",
    "\n",
    "Se crea en el entorno local una carpeta de nombre *bash_shell_programacion* y desde alli se crea un entorno virtual\n",
    "\n",
    "    virtualenv env\n",
    "    source env/bin/activate\n",
    "\n",
    "Desactivemolo un momento mientras creamos un repositorio de git\n",
    "\n",
    "    deactivate\n",
    "    git init\n",
    "    git status\n",
    "\n",
    "verifiquemos que haya un directorio llamado *.git*:\n",
    "\n",
    "    ls -la"
   ]
  },
  {
   "cell_type": "markdown",
   "metadata": {},
   "source": [
    "\n",
    "### Crear un .gitignore\n",
    "\n",
    "Vamos a poner en practica una buena practica, que es ignorar el entorno virtual dentro del repositorio, esto se hace creando un archivo **.gitignore.** Este archivo sirve para no llevar cosas al repositorio remoto, cuando se vaya a compartir el proyecto. Esto se hace escribiendo dentro de dicho archivo el nombre de la carpeta y un slash:\n",
    "\n",
    "    env/\n"
   ]
  },
  {
   "cell_type": "markdown",
   "metadata": {},
   "source": [
    "\n",
    "### Preparando el repositorio remoto\n",
    "\n",
    "En GitHUb creo un nuevo repositorio con el mismo nombre: *bash_shell_programacion*.\n",
    "\n",
    "Una vez creado el repositorio, solo contendra un archivo readme. Ahora vamos a copiar la direccion del repositorio, dando click en el boton verde, nos aseguramos que este seleccionada con la opcion SSH, y volvemos a nuestra consola local.\n",
    "\n",
    "Nos aseguramos que estemos en la rama master de nuestro repositorio, y vamos a decirle a git que vamos a elegir un origen remoto de nuestros archivos, con el comando:\n",
    "\n",
    "    sudo git remote add origin [direccion del repo]\n",
    "\n",
    "para nuestro repositorio especificio seria:\n",
    "\n",
    "    sudo git remote add origin git@github.com:carlcri/Intro_Terminal_L-nea_Comandos.git\n",
    "\n",
    "Verificamos con:\n",
    "\n",
    "    git remote -v\n"
   ]
  },
  {
   "cell_type": "markdown",
   "metadata": {},
   "source": [
    "Vamos a preparar nuestro rrepositorio antes de hacer el PUSH para llevar los archivos desde el repo local al remoto.\n",
    "\n",
    "Asi que lo primero es hacer un PULL para integrar los cambios remotos, esta sera una operacion especial, con este comando:\n",
    "\n",
    "    sudo git pull origin main --allow-unrelated-histories\n",
    "\n",
    "Analizando este comando con cuidado vemos que el *origin* es *main*, debido a que en GitHub por defecto, no existe la rama MASTER sino MAIN\n",
    "\n",
    "Una vez se ejecuta el anterior comando, entramos a una pantalla que siempre es dificil de cerrar, por lo general se cierra con una combinaciond de teclas como son:\n",
    "\n",
    "    CTRL + X\n",
    "    CTRL + X + X\n",
    "\n",
    "Al revisar la carpeta del repositorio con el comando *ls* se observa hay un archivo nuevo que antes no estaba, peor si en el remoto: *README.md*.\n",
    "\n",
    "Ahora estamos listos para el PULL, ¡pero antes!\n",
    "\n",
    "Recuerda que *Freddy Vega* siempre hace un PULL para evitar conflictos:\n",
    "\n",
    "    sudo git pull origin main\n",
    "\n",
    "Y ahora si el famoso *push*\n",
    "\n",
    "    sudo git push origin master:main\n",
    "\n",
    "Revisamos lo que hay dentro del repositorio een GITHUB y se observa los cambios locales se guardaron en el remoto. Asi que demonos por bien servidos."
   ]
  },
  {
   "cell_type": "markdown",
   "metadata": {},
   "source": [
    "### Configurar Cuenta Alterna como Colaborador\n",
    "\n",
    "Mi cuenta alterna en GitHub *gataapestosa* hay que añadirla como colaborador, porque ella, desde su repositorio local, sera quien realize las practicas y contenidos del curso.\n",
    "\n",
    "Desde los *settings* del repositorio, ir a la parte de collaborators y añadirla.\n",
    "\n",
    "Delegar a *gataapestosa* para que cree las ramas, y las suba a *Github*\n",
    "\n",
    "#### Clonar el Proyecto\n",
    "\n",
    "El entorno de trabajo de la cuenta alterna es:\n",
    "\n",
    "    ~/Warehouse/Anita\n",
    "\n",
    "Desde esta ubicacion, clonar el proyecto, (Boton Verde para obtener la ubicacion https), como se configuro publico, no habra ningun problema en este paso, :\n",
    "\n",
    "    git clone https://github.com/carlcri/Intro_Terminal_L-nea_Comandos.git"
   ]
  },
  {
   "cell_type": "markdown",
   "metadata": {},
   "source": [
    "### Ramas\n",
    "\n",
    "Deben ser creadas por la cuenta alterna\n",
    "\n",
    "En el entorno local habra dos ramas, una principal y otra de desarrollo. El objetivo es practicar los comandos de *git*.\n",
    "\n",
    "1.  master\n",
    "2.  development\n",
    "\n",
    "Solo se trabajara en la rama devolpment, y al final se realizara un merge a la rama principal. Para crear la rama\n",
    "\n",
    "    git branch development\n",
    "\n",
    "#### comandos utiles para trabajar con ramas\n",
    "\n",
    "    git branch\n",
    "    git show-branch --all\n",
    "\n",
    "    git log \n",
    "    git log -all\n",
    "    git log --graph\n",
    "    git log --graph --decorate --oneline\n",
    "    git log --all --graph --decorate --oneline"
   ]
  },
  {
   "cell_type": "markdown",
   "metadata": {},
   "source": [
    "## Instalando las librerias necesarias\n",
    "\n",
    "Asegurerase que se este usando el kernel vinculado con el ambiente virtual, y no el kernel Global. Una vez asegurado lo anterior debemos instalar las liberiar basicas.\n",
    "\n",
    "Si por ejemplo en este punto importamos una libreria basica como puede ser NUMPY, pues nos va a generar un error donde no existe tal modulo.\n",
    "\n",
    "Asi que para importar e instalar todad las librerias necesarias, y no una por una, se recomienda con archivo de *requirements.txt* para que instale pandas, numpy, y matplotlib\n",
    "\n",
    "ahora para instalarmo, simplemente:\n",
    "\n",
    "    pip3 install -r requirements.txt\n",
    "\n",
    "Y con el comando freeze verficamos las dependencias instaladas\n",
    "\n",
    "    pip freeze\n"
   ]
  },
  {
   "cell_type": "code",
   "execution_count": 2,
   "metadata": {},
   "outputs": [],
   "source": [
    "import numpy"
   ]
  }
 ],
 "metadata": {
  "kernelspec": {
   "display_name": "Python 3.8.10 ('env': venv)",
   "language": "python",
   "name": "python3"
  },
  "language_info": {
   "codemirror_mode": {
    "name": "ipython",
    "version": 3
   },
   "file_extension": ".py",
   "mimetype": "text/x-python",
   "name": "python",
   "nbconvert_exporter": "python",
   "pygments_lexer": "ipython3",
   "version": "3.8.10"
  },
  "orig_nbformat": 4,
  "vscode": {
   "interpreter": {
    "hash": "d006d1cce6a1dbee9ab9c4c401430c59131332a971fd8464bbac7b6f2891ea38"
   }
  }
 },
 "nbformat": 4,
 "nbformat_minor": 2
}
