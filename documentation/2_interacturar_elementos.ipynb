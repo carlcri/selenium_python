{
 "cells": [
  {
   "attachments": {},
   "cell_type": "markdown",
   "metadata": {},
   "source": [
    "# Interactuar con elementos"
   ]
  },
  {
   "attachments": {},
   "cell_type": "markdown",
   "metadata": {},
   "source": [
    "## Manejar form, textbox, checkbox y radio button\n",
    "\n",
    "Script: **9_register-new-user.py**\n",
    "\n",
    "Automatizaremos el proceso de creacion de una nueva cuenta. Inspeccionaremos el elemento para el *log in*, y no hay mucha informacion, asi que vamos a copiar su XPATH. \n",
    "\n",
    "![](https://i.imgur.com/7gGGqMm.png)\n",
    "\n",
    "Le damos un click para que se despliegue, y posteriormente que encuentre un elemento por el texto que esta en su enlace, y ese texto es *Log In*, y eso nos llevara a la pantalla de log_in"
   ]
  },
  {
   "cell_type": "code",
   "execution_count": null,
   "metadata": {},
   "outputs": [],
   "source": [
    "self.driver.find_element(By.XPATH, '//*[@id=\"header\"]/div/div[2]/div/a/span[2]').click()\n",
    "self.driver.find_element(By.LINK_TEXT, 'Log In').click"
   ]
  },
  {
   "attachments": {},
   "cell_type": "markdown",
   "metadata": {},
   "source": [
    "![](https://i.imgur.com/uCt6Rwk.png)"
   ]
  },
  {
   "attachments": {},
   "cell_type": "markdown",
   "metadata": {},
   "source": [
    "- Inspeccionamos el elemento de crear cuenta. Como tampoco tiene informacion explicita, copiamos el XPATH\n",
    "\n",
    "- En un variable *create_account_button* guardaremso ele elemento, y con los assertions, verificamos que el boto este habilitado, y tambien visible para el usuario.\n",
    "\n",
    "- Una vez se hace click. Nos llevara un un endopoint donde podremos introducir los datos"
   ]
  },
  {
   "cell_type": "code",
   "execution_count": null,
   "metadata": {},
   "outputs": [],
   "source": [
    "\t\tcreate_account_button = self.driver.find_element(By.XPATH, '/html/body/div/div[2]/div[2]/div/div/div[2]/form/div/div[1]/div[2]/a/span/span')\n",
    "\t\tself.assertTrue(create_account_button.is_displayed() and create_account_button.is_enabled()) \n",
    "\t\tcreate_account_button.click()"
   ]
  },
  {
   "attachments": {},
   "cell_type": "markdown",
   "metadata": {},
   "source": [
    "![](https://i.imgur.com/AmcAHMQ.png)\n",
    "\n",
    "Antes de empezar el proceso de creacion de cuenta, verifiquemos que estamos, si estamos en el endpoint: *create new customer account*\n",
    "\n",
    "    self.assertAlmostEqual(self.driver.title, 'Create New Customer Account')"
   ]
  },
  {
   "attachments": {},
   "cell_type": "markdown",
   "metadata": {},
   "source": [
    "Ahora inspeccionando cada uno de los elementos de la figura anterior, es muy facil identicarlso por su id, o name:\n",
    "\n",
    "![](https://i.imgur.com/XkyFp5t.png)"
   ]
  },
  {
   "attachments": {},
   "cell_type": "markdown",
   "metadata": {},
   "source": [
    "Ahora haremos un assertion para verificar que esten habilitados, no esta de mas:\n",
    "\n",
    "![](https://i.imgur.com/vHMxPTC.png)"
   ]
  },
  {
   "attachments": {},
   "cell_type": "markdown",
   "metadata": {},
   "source": [
    "Y finalmente enviamos los datos, con el metodo *send_keys*\n",
    "\n",
    "![](https://i.imgur.com/SwiqUTh.png)"
   ]
  },
  {
   "attachments": {},
   "cell_type": "markdown",
   "metadata": {},
   "source": [
    "Probamos el script con exito. "
   ]
  },
  {
   "attachments": {},
   "cell_type": "markdown",
   "metadata": {},
   "source": [
    "## Manejar dropdown y listas\n",
    "\n",
    "script: **10_select_language.py**\n",
    "\n",
    "Esto es un *dropdown*, y tambien aprenderemos a utilizarlas:\n",
    "\n",
    "![](https://i.imgur.com/4WoZRwK.png)\n",
    "\n",
    "Importamos un nuevo modulo:\n",
    "\n",
    "    from selenium.webdriver.support.ui import Select\n"
   ]
  },
  {
   "attachments": {},
   "cell_type": "markdown",
   "metadata": {},
   "source": [
    "En nuestro caso de prueba creamos una lista que se llama *exposed options* con los lenguajes:\n",
    "\n",
    "    exp_options = ['English', 'French', 'German']\n",
    "\n",
    "Para acceder a las opciones del dropdown, creamos una nueva variable, nos apoyaremos de la clase *Select* que acabamos de importar, recuerda inspeccionar la drop down list:\n",
    "\n",
    "![](https://i.imgur.com/omgrwLm.png)\n",
    "\n",
    "    select_language = Select(self.driver.find_element_by_id('select-language'))\n",
    "\n"
   ]
  },
  {
   "attachments": {},
   "cell_type": "markdown",
   "metadata": {},
   "source": [
    "Verificaremos que sean solo tres opciones:\n",
    "\n",
    "    self.assertEqual(3, len(select_language.options))"
   ]
  },
  {
   "attachments": {},
   "cell_type": "markdown",
   "metadata": {},
   "source": [
    "A continuacion, iteraremos sobre cada una de las opciones que tiene, y las agregaremos a la lista vacia:\n",
    "\n",
    "\tfor option in select_language.options: \n",
    "\t\tact_options.append(option.text)\n",
    "\n",
    "Y comprobaremos son identicas:\n",
    "\n",
    "\tself.assertListEqual(exp_options, act_options)\n",
    "\n",
    "Ahora, vamos a verificar que el idioma por defecto es Ingles en el drop-down.\n",
    "\n",
    "\tself.assertEqual('English', select_language.first_selected_option.text)\n",
    "\n",
    "A continuacion seleccionamos otro idioma, el aleman en este caso:\n",
    "\n",
    "\tselect_language.select_by_visible_text('German')\n",
    "\n",
    "¿Y que pasa cuando seleccionamos aleman?\n",
    "\n",
    "Que la url cambia, y eso es lo que vamos a verificar:\n",
    "\n",
    "![](https://i.imgur.com/68MpQ53.png)\n",
    "\n",
    "\tself.assertTrue('store=german' in self.driver.current_url)"
   ]
  },
  {
   "attachments": {},
   "cell_type": "markdown",
   "metadata": {},
   "source": [
    "### Selecionando el lenguaje a traves del indice\n",
    "\n",
    "    select_language = Select(self.driver.find_element(By.ID, 'select-language'))\t\n",
    "\tselect_language.select_by_index(0)\n",
    "\n",
    "Para que vuelva al ingles."
   ]
  },
  {
   "attachments": {},
   "cell_type": "markdown",
   "metadata": {},
   "source": [
    "## Manejar alert y pop-up\n",
    "\n",
    "script: **11_alerts.py**\n",
    "\n",
    "![](https://i.imgur.com/FmK43AE.png)"
   ]
  },
  {
   "attachments": {},
   "cell_type": "markdown",
   "metadata": {},
   "source": [
    "En el sitio Web de prueba buscaremos la palabra *tee* para buscar las camisetas, luego -->add to compare:\n",
    "\n",
    "![](https://i.imgur.com/Bg1cook.png)\n",
    "\n",
    "Creara una lista donde podremos compararlas:\n",
    "\n",
    "![](https://i.imgur.com/pqUnCgb.png)\n",
    "\n",
    "Si ahora le damos *clear all* nos saldra una *alert* si estamos seguros de eliminar la lista. Este sera el tipo de elementos que manejaremos a continuacion:"
   ]
  },
  {
   "attachments": {},
   "cell_type": "markdown",
   "metadata": {},
   "source": [
    "### Primera Parte\n",
    "\n",
    "Enviar el formulario con la palabra *tee*:\n",
    "\n",
    "- Renombraremos la clase:\n",
    "\n",
    "        class ComareProducts(unittest.TestCase):\n",
    "\n",
    "- Y definimos un caso de prueba como es natural:\n",
    "\n",
    "        test_compare_products_removal_alert\n",
    "\n",
    "- identificaremos el campo de busqueda, y lo guardamos en una variable:\n",
    "\n",
    "        search_field = driver.find_element(By.ID, \"search\")\n",
    "\n",
    "- Como una buena practica, en los campos de busqueda, limpiar y luego si colocar lo que vamos a buscar, y enviarlo con el metodo *submit*:\n",
    "\n",
    "![](https://i.imgur.com/cSRK5jl.png)\n",
    "\n"
   ]
  },
  {
   "attachments": {},
   "cell_type": "markdown",
   "metadata": {},
   "source": [
    "### Segunda Parte\n",
    "\n",
    "Hasta que aparezca la alerta\n",
    "\n",
    "- Identificar el elemento *add to Compare*, y darle click:\n",
    "\n",
    "![](https://i.imgur.com/wAUCHAf.png)\n",
    "\n",
    "        driver.find_element(By.CLASS_NAME, \"link-compare\").click()\n",
    "\n",
    "- Identificar el elemento *cleaar all*. Vemos que no tiene un *id* o una *clase* o algo que no lo ayude a identificar facilmente, pero tiene un texto que podemos acceder mediante(link text), y se le da click:\n",
    "\n",
    "![](https://i.imgur.com/wf2siQb.png)\n",
    "\n",
    "        driver.find_element(By.LINK_TEXT, \"Clear All\")\n",
    "\n",
    "\n"
   ]
  },
  {
   "attachments": {},
   "cell_type": "markdown",
   "metadata": {},
   "source": [
    "### Tercera Parte\n",
    "\n",
    "Interactuando con la alerta:\n",
    "\n",
    "![](https://i.imgur.com/oay8M2g.png)\n",
    "\n",
    "- Se le pide al driver que haga un cambio de foco a la alerta, para que el cursor o la atencion del navegador se centren en la alerta:\n",
    "\n",
    "        alert = driver.switch_to_alert()\n",
    "\n",
    "- Extraeremos el texto que nos muestra:\n",
    "\n",
    "        alert_text = alert.text\n",
    "\n",
    "- Comprobaremos que el texto es igual al que queremos:\n",
    "\n",
    "        self.assertEqual('Are you sure you would like to remove all products from your comparison?',alert_text)\n",
    "\n",
    "- Finalmente lsimulamos un click en el boton aceptar:\n",
    "\n",
    "        alert.accept()\n",
    "\n",
    "Se añadieron algunas pausas para observar la automatizacion de la navegacion."
   ]
  }
 ],
 "metadata": {
  "kernelspec": {
   "display_name": "env",
   "language": "python",
   "name": "python3"
  },
  "language_info": {
   "name": "python",
   "version": "3.10.6"
  },
  "orig_nbformat": 4
 },
 "nbformat": 4,
 "nbformat_minor": 2
}
