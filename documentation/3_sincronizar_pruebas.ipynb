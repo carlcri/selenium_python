{
 "cells": [
  {
   "attachments": {},
   "cell_type": "markdown",
   "metadata": {},
   "source": [
    "# Sincronizar Pruebas"
   ]
  },
  {
   "attachments": {},
   "cell_type": "markdown",
   "metadata": {},
   "source": [
    "## Demora Implicita y explicita\n",
    "\n",
    "En la clase anterior usamos el modulo *sleep* para forzar selenium se detuviera y saber que estaba ocurriendo en cada momento.\n",
    "\n",
    "Sin embargo las pausas tambien sirvern para manejar el asincronismo, una de las debilidades de Selenium, y hay de dos tipos:\n",
    "\n",
    "![](https://i.imgur.com/Hmq3nuJ.png)"
   ]
  },
  {
   "attachments": {},
   "cell_type": "markdown",
   "metadata": {},
   "source": [
    "Implicita: ya la hemos venido usando con la sentencia: *implicitly_wait*.\n",
    "\n",
    "Explicita: que cuando estemos navegando en un sitio web, se cumpla primero la condicion, y posteriormente selenium pueda continuar\n",
    "\n",
    "### Construyendo el Script\n",
    "\n",
    "Importando nuevas clases de Selenium, para hacer uso de las expected conditions:\n",
    "\n",
    "    from selenium.webdriver.support.ui import WebDriverWait\n",
    "\n",
    "#### Construir un test que compruebe el account-link\n",
    "\n",
    "Antes de continuar e implementar el codigo como lo hizo el instructor, quiero mostrarte que efectivamente dicho atributo es igual a 3.\n",
    "\n",
    "![](https://i.imgur.com/kYbTRiT.png)\n",
    "\n",
    "Esto ultimo no es que sea estrictamente necesario para el test, en realidad el instructoe solo lo hizo para ilustrar el funcionamiento de WebDriverWait"
   ]
  },
  {
   "attachments": {},
   "cell_type": "markdown",
   "metadata": {},
   "source": [
    "Dicho esto, WebDriver esperara maximo 10 segundos hasta que se cumpla la condicion(de seleccionar el menu del lenguaje). \n",
    "\n",
    "    WebDriverWait(self.driver, 10).until(lambda s: s.find_element(By.ID, 'select-language').get_attribute('length')=='3')"
   ]
  },
  {
   "attachments": {},
   "cell_type": "markdown",
   "metadata": {},
   "source": [
    "¿Te acuerdas cuando realizamos un *test* para crear un nuevo usuario?: (Manejar form, textbox, checkbox):\n",
    "\n",
    "![](https://i.imgur.com/7gGGqMm.png)"
   ]
  },
  {
   "attachments": {},
   "cell_type": "markdown",
   "metadata": {},
   "source": [
    "Como ves el texto visible es ACCOUNT, y esa vez lo identificamos con el xpath. Esta vez vamos hacer algo parecido, sin usar el Xpath. Y posteriormente, para demostrar que es casi igual, busco un elemento del menu desplegable(Register), y le doy click:\n",
    "\n",
    "![](https://i.imgur.com/wn55Cx1.png)"
   ]
  },
  {
   "attachments": {},
   "cell_type": "markdown",
   "metadata": {},
   "source": [
    "### Segunto test\n",
    "\n",
    "Sera muy parecida a la anterior. En vez de localizar el menu ACCOUNT por Xpath, lo identificaremos por su Link Text:\n",
    "\n",
    "Haremos algo muy parecido a esto:\n",
    "\n",
    "![](https://i.imgur.com/wtT0UhI.png)\n",
    "\n",
    "Ahora si, implementaremos WebDriverWait, para que el elemento sea visible antes de los 10 segundos\n",
    "\n",
    "![](https://i.imgur.com/RcyHFLi.png)"
   ]
  },
  {
   "attachments": {},
   "cell_type": "markdown",
   "metadata": {},
   "source": [
    "Continuamos, para que igualmente el elemento(buton) de *Create an Account* sea clickeable.\n",
    "\n",
    "![](https://i.imgur.com/uCt6Rwk.png)\n",
    "\n",
    "![](https://i.imgur.com/KQRJaid.png)\n",
    "\n",
    "#### Verificando el titulo de la ventana\n",
    "\n",
    "![](https://i.imgur.com/Ibe2q1T.png)\n",
    "\n",
    "    WebDriverWait(self.driver, 10).until(EC.title_contains('Create New Customer Account'))\n",
    "\n",
    "### Referencias\n",
    "\n",
    "Ver documentacion *archivo_complementario_condicionales_esperadas.pdf*\n",
    "\n",
    "\n"
   ]
  }
 ],
 "metadata": {
  "language_info": {
   "name": "python"
  },
  "orig_nbformat": 4
 },
 "nbformat": 4,
 "nbformat_minor": 2
}
