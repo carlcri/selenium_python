{
 "cells": [
  {
   "attachments": {},
   "cell_type": "markdown",
   "metadata": {},
   "source": [
    "# Retos\n",
    "\n",
    "Haremos uso de una app que un buen samaritano dejo en Heroku:\n",
    "\n",
    "http://the-internet.herokuapp.com/\n"
   ]
  },
  {
   "attachments": {},
   "cell_type": "markdown",
   "metadata": {},
   "source": [
    "## Agregar y Eliminar elementos.\n",
    "\n",
    "script: **14_agregar_eliminar.py**\n",
    "\n",
    "La parte de setUp tendra una pequeña variacion, donde iremos al end-point de 'Add/remove elements'\n",
    "\n",
    "![](https://i.imgur.com/ty9mUE6.png)\n",
    "\n",
    "- Solo fue posible identificar los elementos por su XPATH\n",
    "\n",
    "![](https://i.imgur.com/bv3IVUF.png)"
   ]
  },
  {
   "attachments": {},
   "cell_type": "markdown",
   "metadata": {},
   "source": [
    "## Elementos dinámicos\n",
    "\n",
    "script: **15_dynamic_elements.py**\n",
    "\n",
    "Selenium tiene problemas identificando estos elementos.\n",
    "\n",
    "Hasta que el elemento *gallery* aparezca:\n",
    "\n",
    "![](https://i.imgur.com/lSbFKmc.png)\n",
    "\n",
    "- Lo identique con un xpath.\n",
    "\n",
    "![](https://i.imgur.com/Pmgwu7V.png)"
   ]
  },
  {
   "attachments": {},
   "cell_type": "markdown",
   "metadata": {},
   "source": [
    "## Controles dinámicos\n",
    "\n",
    "script: **16_dynamic_controls**\n",
    "\n",
    "This example demonstrates when elements (e.g., checkbox, input field, etc.) are changed asynchronously.\n",
    "\n",
    "![](https://i.imgur.com/DWfONHb.png)\n",
    "\n",
    "\n",
    "En vez de usar el XPATH para identificar, usaremos el selector CSS, que es un poco mas legible de leer.\n",
    "\n",
    "![](https://i.imgur.com/Af496Gg.png)\n"
   ]
  },
  {
   "attachments": {},
   "cell_type": "markdown",
   "metadata": {},
   "source": [
    "- Primero identificamos el chechbox, realmente no es estrictamente necesario para el ejercicio. \n",
    "- Verificamos el checkBox este habilitado\n",
    "- Identificamos el boton Remove\n",
    "- El boton desaparecera, y por eso esperamos un maximo de 15 segundos para que aparezca, nuevamente, esta vez como un boton *Add*"
   ]
  },
  {
   "attachments": {},
   "cell_type": "markdown",
   "metadata": {},
   "source": [
    "La segunda parte es muy parecida:\n",
    "\n",
    "![](https://i.imgur.com/yD13YX8.png)"
   ]
  },
  {
   "attachments": {},
   "cell_type": "markdown",
   "metadata": {},
   "source": [
    "## Typos\n",
    "\n",
    "script **17_typos.py**\n",
    "\n",
    "*\"This example demonstrates a typo being introduced. It does it randomly on each page load.\n",
    "Sometimes you'll see a typo, other times you won't.\"*\n",
    "\n",
    "![](https://i.imgur.com/6A0ZlMj.png)\n",
    "\n",
    "Ese es el typo que igualmente se muestra o no si se recarga la pagina. \n",
    "\n",
    "Al inspeccionarlo notamos es un parrafo, y copiamos su CSS selector(selector), lo buscamos, y extraemos el texto.\n",
    "\n",
    "![](https://i.imgur.com/uIl80zN.png)\n",
    "\n",
    "Aqui encontro el texto correcto despues de 5 intentos. \n",
    "\n",
    "![](https://i.imgur.com/xGz0V4v.png)\n",
    "\n"
   ]
  },
  {
   "attachments": {},
   "cell_type": "markdown",
   "metadata": {},
   "source": [
    "## Ordenar Tablas\n",
    "\n",
    "script: **18_sort_table.py**\n",
    "\n",
    "Un poco de automatizaciones y Web scraping.\n",
    "\n",
    "![](https://i.imgur.com/Hjr1cQb.png)\n",
    "\n",
    "Inspeccionamos la tabla para encontrar algunos patrones, de donde estan los headers y los datos. Aqui vemos que los headers son 6, pero solo nos interesan los 5 primeros.\n",
    "\n",
    "![](https://i.imgur.com/PRECq3q.png)\n"
   ]
  },
  {
   "attachments": {},
   "cell_type": "markdown",
   "metadata": {},
   "source": [
    "![](https://i.imgur.com/O86A21L.png)\n",
    "\n",
    "Para identificar los headers, copiamos el primero de ellos y el quinto:\n",
    "\n",
    "    //*[@id=\"table1\"]/thead/tr/th[1]\n",
    "    //*[@id=\"table1\"]/thead/tr/th[5]\n",
    "\n",
    "1. Como ves, podemos iterar sobre estos elementos, y obtener cada uno de ellos. Los guardamos como *fieldnames*.\n",
    "\n",
    "Si inspeccionamos cada uno de los elementos de la tabla, y obtenemos el Xpath de cada uno de ellos, tambien seguira un patron sobre el cual podemos iterar. \n",
    "\n",
    "2. Iteramos sobre cada uno de los valores\n",
    "\n",
    "3. Guardamos cada fila como un diccionario, y lo añadimos a la lista *table1*, que sera una lista de diccionarios con toda la informacion.\n",
    "\n",
    "4. Hacemos uso del modulo tabulate, para que se vea bonita la impresion.\n",
    "\n",
    "Y obtenemos esta bonita tabla, el web scraping esta listo:\n",
    "\n",
    "![](https://i.imgur.com/NJKEUyO.png)"
   ]
  }
 ],
 "metadata": {
  "language_info": {
   "name": "python"
  },
  "orig_nbformat": 4
 },
 "nbformat": 4,
 "nbformat_minor": 2
}
