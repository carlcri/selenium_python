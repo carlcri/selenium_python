{
 "cells": [
  {
   "attachments": {},
   "cell_type": "markdown",
   "metadata": {},
   "source": [
    "# Retos\n",
    "\n",
    "Haremos uso de una app que un buen samaritano dejo en Heroku:\n",
    "\n",
    "http://the-internet.herokuapp.com/\n"
   ]
  },
  {
   "attachments": {},
   "cell_type": "markdown",
   "metadata": {},
   "source": [
    "## Agregar y Eliminar elementos.\n",
    "\n",
    "La parte de setUp tendra una pequeña variacion, donde iremos al end-point de 'Add/remove elements'"
   ]
  }
 ],
 "metadata": {
  "language_info": {
   "name": "python"
  },
  "orig_nbformat": 4
 },
 "nbformat": 4,
 "nbformat_minor": 2
}
