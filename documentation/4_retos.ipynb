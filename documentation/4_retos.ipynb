{
 "cells": [
  {
   "attachments": {},
   "cell_type": "markdown",
   "metadata": {},
   "source": [
    "# Retos\n",
    "\n",
    "Haremos uso de una app que un buen samaritano dejo en Heroku:\n",
    "\n",
    "http://the-internet.herokuapp.com/\n"
   ]
  },
  {
   "attachments": {},
   "cell_type": "markdown",
   "metadata": {},
   "source": [
    "## Agregar y Eliminar elementos.\n",
    "\n",
    "script: **14_agregar_eliminar.py**\n",
    "\n",
    "La parte de setUp tendra una pequeña variacion, donde iremos al end-point de 'Add/remove elements'\n",
    "\n",
    "![](https://i.imgur.com/ty9mUE6.png)\n",
    "\n",
    "- Solo fue posible identificar los elementos por su XPATH\n",
    "\n",
    "![](https://i.imgur.com/bv3IVUF.png)"
   ]
  },
  {
   "attachments": {},
   "cell_type": "markdown",
   "metadata": {},
   "source": [
    "## Elementos dinámicos\n",
    "\n",
    "script: **15_dynamic_elements.py**\n",
    "\n",
    "Selenium tiene problemas identificando estos elementos.\n",
    "\n",
    "Hasta que el elemento *gallery* aparezca:\n",
    "\n",
    "![](https://i.imgur.com/lSbFKmc.png)\n",
    "\n",
    "- Lo identique con un xpath.\n",
    "\n",
    "![](https://i.imgur.com/Pmgwu7V.png)"
   ]
  },
  {
   "attachments": {},
   "cell_type": "markdown",
   "metadata": {},
   "source": [
    "## Controles dinámicos\n",
    "\n",
    "script: **16_dynamic_controls**\n",
    "\n",
    "This example demonstrates when elements (e.g., checkbox, input field, etc.) are changed asynchronously."
   ]
  }
 ],
 "metadata": {
  "language_info": {
   "name": "python"
  },
  "orig_nbformat": 4
 },
 "nbformat": 4,
 "nbformat_minor": 2
}
