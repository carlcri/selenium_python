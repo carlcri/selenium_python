{
 "cells": [
  {
   "attachments": {},
   "cell_type": "markdown",
   "metadata": {},
   "source": [
    "# Utilizar Comandos Basicos"
   ]
  },
  {
   "attachments": {},
   "cell_type": "markdown",
   "metadata": {},
   "source": [
    "## Hola Mundo\n",
    "\n",
    "Descargar un archivo adicional que es Driver del Navegador para comuniciar a Selenium con el mismo. para el caso de Chrome, sera *chromedriver*, seleccionar de acuerdo al O.S y desempaquetarlo.\n",
    "\n",
    "Guardarlo preferiblemente en la carpeta de nuestro proyecto\n",
    "\n",
    "### unittest\n",
    "\n",
    "Es una libreria de Python que se usara en el curso para obtener la informacion de lo que ocurre con las automatizaciones:\n",
    "\n",
    "- Test Fixture - antes y despues de la prueba\n",
    "- Test Case - unidad de codigo a probar\n",
    "- Test Suite - coleccion de Test Cases\n",
    "- Test Runner - orquestador de la ejecucion\n",
    "- Test Report - resumen de los resultados. "
   ]
  },
  {
   "attachments": {},
   "cell_type": "markdown",
   "metadata": {},
   "source": [
    "El archivo inicial para ilustrar el proceso se llama *5_hola_mundo.py*. Y esta dividido en tres partes principales:\n",
    "\n",
    "- setUp: antes de la prueba\n",
    "- test_: Caso de Prueba\n",
    "- tearDown: Acciones al finalizar \n",
    "\n",
    "Para correr el codigo, desde la terminal. Observa los comentarios\n",
    "\n",
    "    "
   ]
  },
  {
   "cell_type": "code",
   "execution_count": 1,
   "metadata": {},
   "outputs": [],
   "source": [
    "import unittest\n",
    "from pyunitreport import HTMLTestRunner\n",
    "from selenium import webdriver\n",
    "\n",
    "\n",
    "class HelloWorld(unittest.TestCase):\n",
    "\n",
    "\t#ejecuta lo necesario antes de hacer la prueba\n",
    "\tdef setUp(self):\n",
    "\t\tself.driver = webdriver.Chrome(executable_path = '../chromedriver')\n",
    "\t\tdriver = self.driver\t#para no esta escribieno self.driver en cada linea\n",
    "\t\tdriver.implicitly_wait(10) #esperar 10 segundo 'implicitamente' antes de realizar la siguiente accion\n",
    "#\t\treturn super().setUp()\n",
    "\n",
    "\t#Caso de prueba, para que el navegador las automatize\n",
    "\tdef test_hello_world(self):\n",
    "\t\tdriver = self.driver\n",
    "\t\tdriver.get('https://www.platzi.com')\n",
    "\t\t\n",
    "\n",
    "\t#Acciones para finalizar. Importante cerrar la ventana del navegador despues de cada prueba\t\n",
    "\tdef tearDown(self):\n",
    "\t\tself.driver.quit()\n",
    "#\t\treturn super().tearDown()\n",
    "\n",
    "\t\n",
    "if __name__ == '__main__':\n",
    "\tunittest.main(verbosity = 2, testRunner = HTMLTestRunner(output = 'reportes', report_name = 'hello-world-report1'))"
   ]
  },
  {
   "attachments": {},
   "cell_type": "markdown",
   "metadata": {},
   "source": [
    "\n",
    "\n",
    "![first](https://i.imgur.com/8SqtHnt.png)"
   ]
  },
  {
   "attachments": {},
   "cell_type": "markdown",
   "metadata": {},
   "source": [
    "Se observa se abre una nueva ventana de *Chrome* y posteriormente la cierra si todo esta bien. Observa hay un nuevo folder de reportes, de donde obtenemos el siguiente:\n",
    "\n",
    "![reporte](https://i.imgur.com/Nr4cc73.png)\n",
    "\n"
   ]
  },
  {
   "attachments": {},
   "cell_type": "markdown",
   "metadata": {},
   "source": [
    "### Otras versiones de Hello World\n",
    "\n",
    "El codigo anterior fue nuestro punto de partida, sin embargo podemos mejorarlo un poco, para que sean dos casos de prueba. \n",
    "\n",
    "En al version *5_hola_mundoV2.py* se hace uso del decorados @classmethod para que se ejecuten las dos pruebas en una sola ventana. \n"
   ]
  },
  {
   "attachments": {},
   "cell_type": "markdown",
   "metadata": {},
   "source": [
    "## Encontrar elementos con find_element\n",
    "\n",
    "Para poder acceder a toda esta estructura html dentro de un sitio WEB usaremos los selectores\n",
    "\n",
    "![estructura](https://i.imgur.com/eImgkRX.png)\n",
    "\n",
    "Recuerdoa que *xpath* no siempre es la mejor opcion\n",
    "\n",
    "![selectores](https://i.imgur.com/e85Cxqs.png)"
   ]
  },
  {
   "attachments": {},
   "cell_type": "markdown",
   "metadata": {},
   "source": [
    "Para el curso, se haran las pruebas en: http://demo-store.seleniumacademy.com/ "
   ]
  },
  {
   "attachments": {},
   "cell_type": "markdown",
   "metadata": {},
   "source": [
    "Como ha pasado un tiempo, los scripts antiguos no funcionan porque algunas funcionalidades han sido depreciadas en la actual version de Selium: selenium==4.7.2\n",
    "\n",
    "Tal es el caso de find_element_by_id, find_element_by_name y asi sucesivamente. Han sido remplazadas por find_element, tal y como se describe a continuacion:\n",
    "\n",
    "https://www.selenium.dev/documentation/webdriver/elements/finders/\n",
    "\n",
    "Se hicieron algunas modificaciones al codigo original. Lo primero es incluir el modulo *By*\n",
    "\n",
    "    from selenium.webdriver.common.by import By\n",
    "\n",
    "Con la herramienta de inspeccionar, inspeccionamos valga la redundancia, el campo par digitar la busqueda, y el boton. \n",
    "\n",
    "![inspecting](https://i.imgur.com/qfbuWDS.png)\n",
    "\n",
    "Como ves el campo de busqueda se puede encontrar de varias maneras, por su id, por su name, por su class name (input text).\n",
    "\n",
    "Mientras que el boton, al parecer solo por su class name. \n"
   ]
  },
  {
   "attachments": {},
   "cell_type": "markdown",
   "metadata": {},
   "source": [
    "Tambien podemos hacer una lista de los elementos que encontremos y contarlos, como son este conjunto de imagenes que aparecen de forma lineal \n",
    "\n",
    "![imge](https://i.imgur.com/vaTxN7S.png)\n",
    "\n",
    "Sin embargo, al inspeccionarlas, no se observa mucha informacion mas alla de que cada una tenga un enlace, pero que pertenecen a la clase *promos*. En este caso haremos uso de una lista:\n",
    "\n",
    "![ins](https://i.imgur.com/ApURtPr.png)\n",
    "\n"
   ]
  },
  {
   "cell_type": "code",
   "execution_count": null,
   "metadata": {},
   "outputs": [],
   "source": [
    "def test_count_of_promo_banner_images(self):\n",
    "\tbanner_list = self.driver.find_element(By.CLASS_NAME, \"promos\")\n",
    "\tbanners = banner_list.find_elements(By.TAG_NAME, \"img\")\n",
    "\t\n",
    "\t#Assertions \n",
    "\tself.assertEqual(3, len(banners))"
   ]
  },
  {
   "attachments": {},
   "cell_type": "markdown",
   "metadata": {},
   "source": [
    "Otro de los selectores bastante utiles es el XPATH, cuando hay algun elemento que no es lo suficientemente explicito, como la imagen grande del caballero de treje gris. Inspeccionamos el elemento, y copiamos el XPATH\n",
    "\n",
    "    //*[@id=\"top\"]/body/div/div[2]/div[2]/div/div/div[2]/div[1]/ul/li[4]/a/img\n",
    "\n"
   ]
  },
  {
   "cell_type": "code",
   "execution_count": null,
   "metadata": {},
   "outputs": [],
   "source": [
    "\tdef test_vip_promo(self):\n",
    "\t\tvip_promo =self.driver.find_element(By.XPATH, '//*[@id=\"top\"]/body/div/div[2]/div[2]/div/div/div[2]/div[1]/ul/li[4]/a/img')"
   ]
  },
  {
   "attachments": {},
   "cell_type": "markdown",
   "metadata": {},
   "source": [
    "Tambien se pueden identificar elementos por su selector *CSS*, como es el carrito de compras, \n",
    "\n",
    "![shop](https://i.imgur.com/wdoD55n.png)"
   ]
  },
  {
   "attachments": {},
   "cell_type": "markdown",
   "metadata": {},
   "source": [
    "Observamos que esta dentro de un div llamado header-minicart y ademas se encuentra en un span cuya clase se llama icon."
   ]
  },
  {
   "cell_type": "code",
   "execution_count": null,
   "metadata": {},
   "outputs": [],
   "source": [
    "def test_shopping_cart(self):\n",
    "\tshopping_cart_icon = self.driver.find_element(By.CSS_SELECTOR, \"div.header-minicart span.icon\")"
   ]
  },
  {
   "attachments": {},
   "cell_type": "markdown",
   "metadata": {},
   "source": [
    "Como ves todas las pruebas pasaron\n",
    "\n",
    "![tests](https://i.imgur.com/tbYkNtG.png)"
   ]
  },
  {
   "attachments": {},
   "cell_type": "markdown",
   "metadata": {},
   "source": [
    "### Otras versiones del script\n",
    "\n",
    "Al no usar el decorador @classmethod cada una de las pruebas se ejecuta en una ventana diferente, dentro del 7_findelements.py\n",
    "\n",
    "En el siguiente script, 7_find_elements_V1, se hace uso del decorados @classmethod para que se ejecuten las dos pruebas en una sola ventana, y se quita el implicity wait y la prueba es super rapida 😁"
   ]
  },
  {
   "attachments": {},
   "cell_type": "markdown",
   "metadata": {},
   "source": [
    "7 Websites to Practice Selenium Webdriver Online\n",
    "\n",
    "https://techbeamers.com/websites-to-practice-selenium-webdriver-online/"
   ]
  },
  {
   "attachments": {},
   "cell_type": "markdown",
   "metadata": {},
   "source": [
    "## Preparar Assestions y Test Suites\n",
    "\n",
    "Hasta ahora hemos identificado los elementos de un sitio WEB para despues interactura con ellos. \n",
    "\n",
    "### Assetions\n",
    "\n",
    "![](https://i.imgur.com/kuLAG7D.png)\n",
    "\n",
    "### Test Suites\n",
    "\n",
    "![](https://i.imgur.com/kX4rhc4.png)"
   ]
  },
  {
   "attachments": {},
   "cell_type": "markdown",
   "metadata": {},
   "source": [
    "Se pueden tener pruebas por ejemplo de *login*, *home*, y de otras secciones de la pagina, pero en lugar de estar corriendo un archivo de forma independiente, esperar que termine, y despues correr otro archivo de prueba, y despues otro, podemos unificarlos en un Test Suite, el cual al correrlo, va ejecutar todas esas pruebas de manera SECUENCIAL.\n",
    "\n",
    "Se crea una nueva carpeta 8_assertions con dos archivos, reutilizando codigo.\n",
    "\n",
    "### Asseritions.py\n",
    "\n",
    "Se importan nuevos submodulos:\n",
    "\n",
    "    from selenium.common.exceptions import NoSuchElementException\n",
    "\n",
    "- Se cambia el nombre de la clase: *AssertionsTest*\n",
    "\n",
    "Despues de *tearDownClass*, implementamos esta funcion para identicar cuando un elemento esta presente de acuerdo a los parametros *how* y *what*\n",
    "\n",
    "\n",
    "\n",
    "- how: tipo de selector \n",
    "- what: valor que tiene\n",
    "\n",
    "Y modificariamos el dodigo para usar esta funcion:\n",
    "\n",
    "![](https://i.imgur.com/uAcCmtI.png)\n",
    "\n",
    "\n",
    "Implementaremos 3 tests:"
   ]
  },
  {
   "cell_type": "code",
   "execution_count": null,
   "metadata": {},
   "outputs": [],
   "source": [
    "def test_search_field_by_id(self):\n",
    "\t\tself.assertTrue(self.is_element_present(By.ID, \"search\"))\n",
    "\n",
    "\n",
    "def test_search_field(self):\n",
    "\tself.assertTrue(self.is_element_present(By.NAME, 'q'))\n",
    "\n",
    "\n",
    "def test_search_field_by_xpath(self):\n",
    "\tself.assertTrue(self.is_element_present(By.XPATH, '//*[@id=\"top\"]/body/div/div[2]/div[2]/div/div/div[2]/div[1]/ul/li[4]/a/img'))"
   ]
  },
  {
   "attachments": {},
   "cell_type": "markdown",
   "metadata": {},
   "source": [
    "### searchTests.py\n",
    "\n",
    "Se implementaran tres busquedas sencillas para que el navegador las automatize:\n",
    "\n",
    "- una camisa(tee)\n",
    "- un salero(salts shaker)\n",
    "\n",
    "Se cambia el nombre de la clase: AssertionsTest"
   ]
  },
  {
   "cell_type": "code",
   "execution_count": null,
   "metadata": {},
   "outputs": [],
   "source": [
    "#Busca una camisa\n",
    "\tdef test_search_tee(self):\n",
    "\t\tsearch_field = self.driver.find_element(By.NAME, \"q\")\n",
    "\t\tsearch_field.clear()\n",
    "\t\tsearch_field.send_keys('tee')\n",
    "\t\tsearch_field.submit()\n",
    "\n",
    "    #Busca un salero\n",
    "\tdef test_search_salt_shaker(self):\n",
    "\t\tsearch_field = self.driver.find_element(By.NAME, \"q\")\n",
    "\t\tsearch_field.clear()\n",
    "\t\tsearch_field.send_keys('salt shaker')\n",
    "\t\tsearch_field.submit()\n",
    "\t\tproducts = self.driver.find_elements(By.XPATH, '//*[@id=\"top\"]/body/div/div[2]/div[2]/div/div[2]/div[1]/div[4]/ul/li/div/h2/a')\n",
    "\t\tself.assertEqual(0, len(products))"
   ]
  },
  {
   "attachments": {},
   "cell_type": "markdown",
   "metadata": {},
   "source": [
    "La idea con el assertEqual era comprobar que solo habia un resultado, sin embargo, no funciono, y por eso el 0. Que desastre esta clase."
   ]
  },
  {
   "attachments": {},
   "cell_type": "markdown",
   "metadata": {},
   "source": [
    "### smoketests.py\n",
    "\n",
    "Desde aca se generaran los casos de prueba. Cabe aclarar los probe por separado y funcionaron. Aqui removi la parte de *if __name__ == '__main__':* en los dos archivos anteriores. Y ejecute *smoketests.py* sin ningun problema\n",
    "\n",
    "![](https://i.imgur.com/UXbBDrP.png)\n",
    "\n",
    "Y como ves se corrienron todas las pruebas en un solo archivo(test suite) de forma satisfactoria:\n",
    "\n",
    "![](https://i.imgur.com/nGcAdFT.png)"
   ]
  },
  {
   "attachments": {},
   "cell_type": "markdown",
   "metadata": {},
   "source": [
    "## Entender las clases WebDriver y WebElement\n",
    "\n",
    "Lectura:\n",
    "\n",
    "Como viste en clases anteriores, un sitio web se construye por código **HTML** en forma de árbol, conteniendo distintos elementos con los que podemos interactuar según estén presentes o no en nuestra interfaz gráfica.\n",
    "\n",
    "**Selenium WebDriver** nos brinda la posibilidad de poder referirnos a estos elementos y ejecutar métodos específicos para realizar las mismas acciones que un humano haría sobre los mismos, gracias a las clases **WebDriver** y **WebElement**.\n",
    "\n",
    "### Clase WebDriver\n",
    "\n",
    "Cuenta con una serie de propiedades y métodos para interactuar directamente con la ventana del navegador y sus elementos relacionados, como son pop-ups o alerts. Por ahora nos centraremos a las más utilizadas.\n",
    "\n",
    "![](https://i.imgur.com/D5NYOKA.png)"
   ]
  },
  {
   "attachments": {},
   "cell_type": "markdown",
   "metadata": {},
   "source": [
    "### Clase WebElement\n",
    "\n",
    "Esta clase nos permite interactuar específicamente con elementos de los sitios web como textbox, text area, button, radio button, checkbox, etc.\n",
    "\n",
    "![](https://i.imgur.com/wwQeccR.png)\n",
    "\n",
    "![](https://i.imgur.com/6wuBlvH.png)\n",
    "\n",
    "![](https://i.imgur.com/uZknMuv.png)"
   ]
  },
  {
   "attachments": {},
   "cell_type": "markdown",
   "metadata": {},
   "source": [
    "https://onedrive.live.com/?WT.mc_id=PROD%5FOL%2DWeb%5FInApp%5FLeftNav%5FFreeOfficeBarOD&ocid=PROD%5FOL%2DWeb%5FInApp%5FLeftNav%5FFreeOfficeBarOD&id=AD9B83AB948A9AAF%215175&cid=AD9B83AB948A9AAF"
   ]
  }
 ],
 "metadata": {
  "kernelspec": {
   "display_name": "env",
   "language": "python",
   "name": "python3"
  },
  "language_info": {
   "codemirror_mode": {
    "name": "ipython",
    "version": 3
   },
   "file_extension": ".py",
   "mimetype": "text/x-python",
   "name": "python",
   "nbconvert_exporter": "python",
   "pygments_lexer": "ipython3",
   "version": "3.10.6"
  },
  "orig_nbformat": 4,
  "vscode": {
   "interpreter": {
    "hash": "69dfc09757bcc94f6d89102d682499d9338835bf70c24d347beb60eb352134b0"
   }
  }
 },
 "nbformat": 4,
 "nbformat_minor": 2
}
